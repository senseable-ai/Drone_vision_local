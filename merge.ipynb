{
 "cells": [
  {
   "cell_type": "code",
   "execution_count": 2,
   "metadata": {},
   "outputs": [],
   "source": [
    "import pandas as pd\n",
    "\n",
    "column_names = ['frame', 'ID', 'car_type', 'x1', 'y1', 'x2', 'y2', 'center_x', 'center_y', 'front_x', 'front_y', 'back_x', 'back_y', 'width', 'height']\n",
    "\n",
    "for j in range(1, 120):\n",
    "    dfs = []  # 각 클립에 대한 DataFrame을 저장할 리스트\n",
    "    try:\n",
    "        for i in range(1, 4):  # 파일 번호 1부터 3까지\n",
    "            df = pd.read_csv(f'C:/Users/user/Desktop/drone_vision_local/LC/clip{j}/output_lane_{i}.txt', names=column_names)\n",
    "            df['lane'] = i\n",
    "            dfs.append(df)\n",
    "\n",
    "        final_df = pd.concat(dfs)\n",
    "        final_df = final_df.sort_values(by=['ID', 'frame'])\n",
    "        final_df.to_csv(f'C:/Users/user/Desktop/drone_vision_local/LC/clip{j}/clip{j}_coordinate.csv', index=False)\n",
    "    except Exception as e:\n",
    "        continue"
   ]
  }
 ],
 "metadata": {
  "kernelspec": {
   "display_name": "hong_sj",
   "language": "python",
   "name": "python3"
  },
  "language_info": {
   "codemirror_mode": {
    "name": "ipython",
    "version": 3
   },
   "file_extension": ".py",
   "mimetype": "text/x-python",
   "name": "python",
   "nbconvert_exporter": "python",
   "pygments_lexer": "ipython3",
   "version": "3.8.18"
  }
 },
 "nbformat": 4,
 "nbformat_minor": 2
}
